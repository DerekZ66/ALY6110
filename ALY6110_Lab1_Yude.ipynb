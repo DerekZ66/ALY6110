{
  "nbformat": 4,
  "nbformat_minor": 0,
  "metadata": {
    "colab": {
      "provenance": []
    },
    "kernelspec": {
      "name": "python3",
      "display_name": "Python 3"
    },
    "language_info": {
      "name": "python"
    }
  },
  "cells": [
    {
      "cell_type": "code",
      "execution_count": null,
      "metadata": {
        "id": "CNdLz_nDB79v"
      },
      "outputs": [],
      "source": [
        "# innstall java\n",
        "!apt-get install openjdk-8-jdk-headless -qq > /dev/null\n",
        "\n",
        "# install spark (change the version number if needed)\n",
        "!wget -q https://archive.apache.org/dist/spark/spark-3.0.0/spark-3.0.0-bin-hadoop3.2.tgz\n",
        "\n",
        "# unzip the spark file to the current folder\n",
        "!tar xf spark-3.0.0-bin-hadoop3.2.tgz\n",
        "\n",
        "# set your spark folder to your system path environment.\n",
        "import os\n",
        "os.environ[\"JAVA_HOME\"] = \"/usr/lib/jvm/java-8-openjdk-amd64\"\n",
        "os.environ[\"SPARK_HOME\"] = \"/content/spark-3.0.0-bin-hadoop3.2\"\n",
        "\n",
        "\n",
        "# install findspark using pip\n",
        "!pip install -q findspark\n"
      ]
    },
    {
      "cell_type": "code",
      "source": [
        "# preparation for spark\n",
        "import findspark\n",
        "findspark.init()\n",
        "from pyspark.sql import SparkSession\n",
        "spark = SparkSession.builder.master(\"local[*]\").getOrCreate()"
      ],
      "metadata": {
        "id": "mtT0wfL-CHgE"
      },
      "execution_count": null,
      "outputs": []
    },
    {
      "cell_type": "code",
      "source": [
        "# Create SparkSession from builder\n",
        "import pyspark\n",
        "from pyspark.sql import SparkSession\n",
        "spark = SparkSession.builder.master(\"local[1]\") \\\n",
        "                    .appName('ALY6110_ASS2_Yude') \\\n",
        "                    .getOrCreate()"
      ],
      "metadata": {
        "id": "6G28IHtvCP6H"
      },
      "execution_count": null,
      "outputs": []
    },
    {
      "cell_type": "code",
      "source": [
        "# run spark\n",
        "spark"
      ],
      "metadata": {
        "colab": {
          "base_uri": "https://localhost:8080/",
          "height": 219
        },
        "id": "Smg0Ir5BCW4M",
        "outputId": "59c61be5-32de-44a6-d30e-f63bf03ffb7b"
      },
      "execution_count": null,
      "outputs": [
        {
          "output_type": "execute_result",
          "data": {
            "text/plain": [
              "<pyspark.sql.session.SparkSession at 0x7d0b30750280>"
            ],
            "text/html": [
              "\n",
              "            <div>\n",
              "                <p><b>SparkSession - in-memory</b></p>\n",
              "                \n",
              "        <div>\n",
              "            <p><b>SparkContext</b></p>\n",
              "\n",
              "            <p><a href=\"http://6ca08fc5831f:4040\">Spark UI</a></p>\n",
              "\n",
              "            <dl>\n",
              "              <dt>Version</dt>\n",
              "                <dd><code>v3.0.0</code></dd>\n",
              "              <dt>Master</dt>\n",
              "                <dd><code>local[*]</code></dd>\n",
              "              <dt>AppName</dt>\n",
              "                <dd><code>pyspark-shell</code></dd>\n",
              "            </dl>\n",
              "        </div>\n",
              "        \n",
              "            </div>\n",
              "        "
            ]
          },
          "metadata": {},
          "execution_count": 4
        }
      ]
    },
    {
      "cell_type": "markdown",
      "source": [
        "In this lab we will practice our big data skills under PySpark environment using the BostonHousing data set. We will explore the data set following the instruction step by step."
      ],
      "metadata": {
        "id": "riNTWSqtJ6Bw"
      }
    },
    {
      "cell_type": "markdown",
      "source": [
        "**1. Read the given CSV file**"
      ],
      "metadata": {
        "id": "YroY-SYQDMIO"
      }
    },
    {
      "cell_type": "code",
      "source": [
        "# mount drive to colab\n",
        "from google.colab import drive\n",
        "drive.mount('/content/drive')\n",
        "\n",
        "# read data set from drive\n",
        "df = spark.read.csv('/content/drive/MyDrive/BostonHousing.csv',inferSchema=True, header=True)\n"
      ],
      "metadata": {
        "colab": {
          "base_uri": "https://localhost:8080/"
        },
        "id": "rjFrUO77CXsK",
        "outputId": "ce79506c-c746-446d-d119-a1dca6f070a7"
      },
      "execution_count": null,
      "outputs": [
        {
          "output_type": "stream",
          "name": "stdout",
          "text": [
            "Drive already mounted at /content/drive; to attempt to forcibly remount, call drive.mount(\"/content/drive\", force_remount=True).\n"
          ]
        }
      ]
    },
    {
      "cell_type": "markdown",
      "source": [
        "**2. Show the first 5 elements of your dataset**"
      ],
      "metadata": {
        "id": "zwXLQ0vbDj4S"
      }
    },
    {
      "cell_type": "code",
      "source": [
        "df.show(5)"
      ],
      "metadata": {
        "id": "W0SLTfsmDjaj",
        "colab": {
          "base_uri": "https://localhost:8080/"
        },
        "outputId": "a4338aa7-8121-485a-94e2-33920a2e3737"
      },
      "execution_count": 7,
      "outputs": [
        {
          "output_type": "stream",
          "name": "stdout",
          "text": [
            "+-------+----+-----+----+-----+-----+----+------+---+---+-------+------+-----+----+\n",
            "|   crim|  zn|indus|chas|  nox|   rm| age|   dis|rad|tax|ptratio|     b|lstat|medv|\n",
            "+-------+----+-----+----+-----+-----+----+------+---+---+-------+------+-----+----+\n",
            "|0.00632|18.0| 2.31|   0|0.538|6.575|65.2|  4.09|  1|296|   15.3| 396.9| 4.98|24.0|\n",
            "|0.02731| 0.0| 7.07|   0|0.469|6.421|78.9|4.9671|  2|242|   17.8| 396.9| 9.14|21.6|\n",
            "|0.02729| 0.0| 7.07|   0|0.469|7.185|61.1|4.9671|  2|242|   17.8|392.83| 4.03|34.7|\n",
            "|0.03237| 0.0| 2.18|   0|0.458|6.998|45.8|6.0622|  3|222|   18.7|394.63| 2.94|33.4|\n",
            "|0.06905| 0.0| 2.18|   0|0.458|7.147|54.2|6.0622|  3|222|   18.7| 396.9| 5.33|36.2|\n",
            "+-------+----+-----+----+-----+-----+----+------+---+---+-------+------+-----+----+\n",
            "only showing top 5 rows\n",
            "\n"
          ]
        }
      ]
    },
    {
      "cell_type": "markdown",
      "source": [
        "**3. Count number of observation in the given**"
      ],
      "metadata": {
        "id": "zL7pgDr4EL8B"
      }
    },
    {
      "cell_type": "code",
      "source": [
        "print(\"Number of Observations):\", df.count())"
      ],
      "metadata": {
        "colab": {
          "base_uri": "https://localhost:8080/"
        },
        "id": "KjpjoQBgEQS3",
        "outputId": "09594077-12c9-475b-aa68-70d184ea7fb1"
      },
      "execution_count": 9,
      "outputs": [
        {
          "output_type": "stream",
          "name": "stdout",
          "text": [
            "Number of Observations): 506\n"
          ]
        }
      ]
    },
    {
      "cell_type": "markdown",
      "source": [
        "**4. Show the Schema of your dataset**"
      ],
      "metadata": {
        "id": "BZx8gNUjEfm5"
      }
    },
    {
      "cell_type": "code",
      "source": [
        "df.printSchema()"
      ],
      "metadata": {
        "colab": {
          "base_uri": "https://localhost:8080/"
        },
        "id": "vZOeuxdREiyP",
        "outputId": "3a2d4ad6-2b68-4d72-dbcc-3403c8570109"
      },
      "execution_count": 10,
      "outputs": [
        {
          "output_type": "stream",
          "name": "stdout",
          "text": [
            "root\n",
            " |-- crim: double (nullable = true)\n",
            " |-- zn: double (nullable = true)\n",
            " |-- indus: double (nullable = true)\n",
            " |-- chas: integer (nullable = true)\n",
            " |-- nox: double (nullable = true)\n",
            " |-- rm: double (nullable = true)\n",
            " |-- age: double (nullable = true)\n",
            " |-- dis: double (nullable = true)\n",
            " |-- rad: integer (nullable = true)\n",
            " |-- tax: integer (nullable = true)\n",
            " |-- ptratio: double (nullable = true)\n",
            " |-- b: double (nullable = true)\n",
            " |-- lstat: double (nullable = true)\n",
            " |-- medv: double (nullable = true)\n",
            "\n"
          ]
        }
      ]
    },
    {
      "cell_type": "markdown",
      "source": [
        "**5. Drop the column \"b\" from your dataset**"
      ],
      "metadata": {
        "id": "VzFiPk6ZE2MY"
      }
    },
    {
      "cell_type": "code",
      "source": [
        "df = df.drop(\"b\")\n",
        "df.show()"
      ],
      "metadata": {
        "colab": {
          "base_uri": "https://localhost:8080/"
        },
        "id": "NtxSbwdxE6yN",
        "outputId": "f68dc4b0-8d2c-4f79-e171-f394ba1d36dc"
      },
      "execution_count": 13,
      "outputs": [
        {
          "output_type": "stream",
          "name": "stdout",
          "text": [
            "+-------+----+-----+----+-----+-----+-----+------+---+---+-------+-----+----+\n",
            "|   crim|  zn|indus|chas|  nox|   rm|  age|   dis|rad|tax|ptratio|lstat|medv|\n",
            "+-------+----+-----+----+-----+-----+-----+------+---+---+-------+-----+----+\n",
            "|0.00632|18.0| 2.31|   0|0.538|6.575| 65.2|  4.09|  1|296|   15.3| 4.98|24.0|\n",
            "|0.02731| 0.0| 7.07|   0|0.469|6.421| 78.9|4.9671|  2|242|   17.8| 9.14|21.6|\n",
            "|0.02729| 0.0| 7.07|   0|0.469|7.185| 61.1|4.9671|  2|242|   17.8| 4.03|34.7|\n",
            "|0.03237| 0.0| 2.18|   0|0.458|6.998| 45.8|6.0622|  3|222|   18.7| 2.94|33.4|\n",
            "|0.06905| 0.0| 2.18|   0|0.458|7.147| 54.2|6.0622|  3|222|   18.7| 5.33|36.2|\n",
            "|0.02985| 0.0| 2.18|   0|0.458| 6.43| 58.7|6.0622|  3|222|   18.7| 5.21|28.7|\n",
            "|0.08829|12.5| 7.87|   0|0.524|6.012| 66.6|5.5605|  5|311|   15.2|12.43|22.9|\n",
            "|0.14455|12.5| 7.87|   0|0.524|6.172| 96.1|5.9505|  5|311|   15.2|19.15|27.1|\n",
            "|0.21124|12.5| 7.87|   0|0.524|5.631|100.0|6.0821|  5|311|   15.2|29.93|16.5|\n",
            "|0.17004|12.5| 7.87|   0|0.524|6.004| 85.9|6.5921|  5|311|   15.2| 17.1|18.9|\n",
            "|0.22489|12.5| 7.87|   0|0.524|6.377| 94.3|6.3467|  5|311|   15.2|20.45|15.0|\n",
            "|0.11747|12.5| 7.87|   0|0.524|6.009| 82.9|6.2267|  5|311|   15.2|13.27|18.9|\n",
            "|0.09378|12.5| 7.87|   0|0.524|5.889| 39.0|5.4509|  5|311|   15.2|15.71|21.7|\n",
            "|0.62976| 0.0| 8.14|   0|0.538|5.949| 61.8|4.7075|  4|307|   21.0| 8.26|20.4|\n",
            "|0.63796| 0.0| 8.14|   0|0.538|6.096| 84.5|4.4619|  4|307|   21.0|10.26|18.2|\n",
            "|0.62739| 0.0| 8.14|   0|0.538|5.834| 56.5|4.4986|  4|307|   21.0| 8.47|19.9|\n",
            "|1.05393| 0.0| 8.14|   0|0.538|5.935| 29.3|4.4986|  4|307|   21.0| 6.58|23.1|\n",
            "| 0.7842| 0.0| 8.14|   0|0.538| 5.99| 81.7|4.2579|  4|307|   21.0|14.67|17.5|\n",
            "|0.80271| 0.0| 8.14|   0|0.538|5.456| 36.6|3.7965|  4|307|   21.0|11.69|20.2|\n",
            "| 0.7258| 0.0| 8.14|   0|0.538|5.727| 69.5|3.7965|  4|307|   21.0|11.28|18.2|\n",
            "+-------+----+-----+----+-----+-----+-----+------+---+---+-------+-----+----+\n",
            "only showing top 20 rows\n",
            "\n"
          ]
        }
      ]
    },
    {
      "cell_type": "markdown",
      "source": [
        "**6. Round all of the numerical columns into two decimal place**"
      ],
      "metadata": {
        "id": "yRhO8yXpFlK-"
      }
    },
    {
      "cell_type": "code",
      "source": [
        "from pyspark.sql.functions import round\n",
        "\n",
        "# pick numerical columns\n",
        "numerical_columns = [col_name for col_name, dtype in df.dtypes if dtype == 'double']\n",
        "\n",
        "# Round the numerical columns to two decimal places\n",
        "for col in numerical_columns:\n",
        "    df = df.withColumn(col, round(df[col], 2))\n",
        "\n",
        "df.show()"
      ],
      "metadata": {
        "colab": {
          "base_uri": "https://localhost:8080/"
        },
        "id": "TJtcBkmMFpWu",
        "outputId": "b42f10bf-aaff-4b7c-89bc-587f299cbfb3"
      },
      "execution_count": 15,
      "outputs": [
        {
          "output_type": "stream",
          "name": "stdout",
          "text": [
            "+----+----+-----+----+----+----+-----+----+---+---+-------+-----+----+\n",
            "|crim|  zn|indus|chas| nox|  rm|  age| dis|rad|tax|ptratio|lstat|medv|\n",
            "+----+----+-----+----+----+----+-----+----+---+---+-------+-----+----+\n",
            "|0.01|18.0| 2.31|   0|0.54|6.58| 65.2|4.09|  1|296|   15.3| 4.98|24.0|\n",
            "|0.03| 0.0| 7.07|   0|0.47|6.42| 78.9|4.97|  2|242|   17.8| 9.14|21.6|\n",
            "|0.03| 0.0| 7.07|   0|0.47|7.19| 61.1|4.97|  2|242|   17.8| 4.03|34.7|\n",
            "|0.03| 0.0| 2.18|   0|0.46| 7.0| 45.8|6.06|  3|222|   18.7| 2.94|33.4|\n",
            "|0.07| 0.0| 2.18|   0|0.46|7.15| 54.2|6.06|  3|222|   18.7| 5.33|36.2|\n",
            "|0.03| 0.0| 2.18|   0|0.46|6.43| 58.7|6.06|  3|222|   18.7| 5.21|28.7|\n",
            "|0.09|12.5| 7.87|   0|0.52|6.01| 66.6|5.56|  5|311|   15.2|12.43|22.9|\n",
            "|0.14|12.5| 7.87|   0|0.52|6.17| 96.1|5.95|  5|311|   15.2|19.15|27.1|\n",
            "|0.21|12.5| 7.87|   0|0.52|5.63|100.0|6.08|  5|311|   15.2|29.93|16.5|\n",
            "|0.17|12.5| 7.87|   0|0.52| 6.0| 85.9|6.59|  5|311|   15.2| 17.1|18.9|\n",
            "|0.22|12.5| 7.87|   0|0.52|6.38| 94.3|6.35|  5|311|   15.2|20.45|15.0|\n",
            "|0.12|12.5| 7.87|   0|0.52|6.01| 82.9|6.23|  5|311|   15.2|13.27|18.9|\n",
            "|0.09|12.5| 7.87|   0|0.52|5.89| 39.0|5.45|  5|311|   15.2|15.71|21.7|\n",
            "|0.63| 0.0| 8.14|   0|0.54|5.95| 61.8|4.71|  4|307|   21.0| 8.26|20.4|\n",
            "|0.64| 0.0| 8.14|   0|0.54| 6.1| 84.5|4.46|  4|307|   21.0|10.26|18.2|\n",
            "|0.63| 0.0| 8.14|   0|0.54|5.83| 56.5| 4.5|  4|307|   21.0| 8.47|19.9|\n",
            "|1.05| 0.0| 8.14|   0|0.54|5.94| 29.3| 4.5|  4|307|   21.0| 6.58|23.1|\n",
            "|0.78| 0.0| 8.14|   0|0.54|5.99| 81.7|4.26|  4|307|   21.0|14.67|17.5|\n",
            "| 0.8| 0.0| 8.14|   0|0.54|5.46| 36.6| 3.8|  4|307|   21.0|11.69|20.2|\n",
            "|0.73| 0.0| 8.14|   0|0.54|5.73| 69.5| 3.8|  4|307|   21.0|11.28|18.2|\n",
            "+----+----+-----+----+----+----+-----+----+---+---+-------+-----+----+\n",
            "only showing top 20 rows\n",
            "\n"
          ]
        }
      ]
    },
    {
      "cell_type": "markdown",
      "source": [
        "**7. Create a new column (Age10)  with 10% increasing of 'age' column**"
      ],
      "metadata": {
        "id": "Ui-6EpV9Gw-U"
      }
    },
    {
      "cell_type": "code",
      "source": [
        "from pyspark.sql.functions import col, expr\n",
        "\n",
        "\n",
        "# Create a new column 'Age10' with 10% increasing of 'age' column\n",
        "df = df.withColumn('Age10', col('age') * 1.1)\n",
        "\n",
        "df.show()"
      ],
      "metadata": {
        "colab": {
          "base_uri": "https://localhost:8080/"
        },
        "id": "Tp29mj05GyOG",
        "outputId": "44ed1eac-4c09-4534-c443-5f8029a2ed30"
      },
      "execution_count": 16,
      "outputs": [
        {
          "output_type": "stream",
          "name": "stdout",
          "text": [
            "+----+----+-----+----+----+----+-----+----+---+---+-------+-----+----+------------------+\n",
            "|crim|  zn|indus|chas| nox|  rm|  age| dis|rad|tax|ptratio|lstat|medv|             Age10|\n",
            "+----+----+-----+----+----+----+-----+----+---+---+-------+-----+----+------------------+\n",
            "|0.01|18.0| 2.31|   0|0.54|6.58| 65.2|4.09|  1|296|   15.3| 4.98|24.0| 71.72000000000001|\n",
            "|0.03| 0.0| 7.07|   0|0.47|6.42| 78.9|4.97|  2|242|   17.8| 9.14|21.6|             86.79|\n",
            "|0.03| 0.0| 7.07|   0|0.47|7.19| 61.1|4.97|  2|242|   17.8| 4.03|34.7| 67.21000000000001|\n",
            "|0.03| 0.0| 2.18|   0|0.46| 7.0| 45.8|6.06|  3|222|   18.7| 2.94|33.4|             50.38|\n",
            "|0.07| 0.0| 2.18|   0|0.46|7.15| 54.2|6.06|  3|222|   18.7| 5.33|36.2|59.620000000000005|\n",
            "|0.03| 0.0| 2.18|   0|0.46|6.43| 58.7|6.06|  3|222|   18.7| 5.21|28.7| 64.57000000000001|\n",
            "|0.09|12.5| 7.87|   0|0.52|6.01| 66.6|5.56|  5|311|   15.2|12.43|22.9|             73.26|\n",
            "|0.14|12.5| 7.87|   0|0.52|6.17| 96.1|5.95|  5|311|   15.2|19.15|27.1|105.71000000000001|\n",
            "|0.21|12.5| 7.87|   0|0.52|5.63|100.0|6.08|  5|311|   15.2|29.93|16.5|110.00000000000001|\n",
            "|0.17|12.5| 7.87|   0|0.52| 6.0| 85.9|6.59|  5|311|   15.2| 17.1|18.9| 94.49000000000001|\n",
            "|0.22|12.5| 7.87|   0|0.52|6.38| 94.3|6.35|  5|311|   15.2|20.45|15.0|            103.73|\n",
            "|0.12|12.5| 7.87|   0|0.52|6.01| 82.9|6.23|  5|311|   15.2|13.27|18.9| 91.19000000000001|\n",
            "|0.09|12.5| 7.87|   0|0.52|5.89| 39.0|5.45|  5|311|   15.2|15.71|21.7|42.900000000000006|\n",
            "|0.63| 0.0| 8.14|   0|0.54|5.95| 61.8|4.71|  4|307|   21.0| 8.26|20.4|             67.98|\n",
            "|0.64| 0.0| 8.14|   0|0.54| 6.1| 84.5|4.46|  4|307|   21.0|10.26|18.2|             92.95|\n",
            "|0.63| 0.0| 8.14|   0|0.54|5.83| 56.5| 4.5|  4|307|   21.0| 8.47|19.9|62.150000000000006|\n",
            "|1.05| 0.0| 8.14|   0|0.54|5.94| 29.3| 4.5|  4|307|   21.0| 6.58|23.1|32.230000000000004|\n",
            "|0.78| 0.0| 8.14|   0|0.54|5.99| 81.7|4.26|  4|307|   21.0|14.67|17.5|             89.87|\n",
            "| 0.8| 0.0| 8.14|   0|0.54|5.46| 36.6| 3.8|  4|307|   21.0|11.69|20.2|40.260000000000005|\n",
            "|0.73| 0.0| 8.14|   0|0.54|5.73| 69.5| 3.8|  4|307|   21.0|11.28|18.2|             76.45|\n",
            "+----+----+-----+----+----+----+-----+----+---+---+-------+-----+----+------------------+\n",
            "only showing top 20 rows\n",
            "\n"
          ]
        }
      ]
    },
    {
      "cell_type": "markdown",
      "source": [
        "**8. Plot Age10 column on a 2D Plot**"
      ],
      "metadata": {
        "id": "CT-JpihCHNRM"
      }
    },
    {
      "cell_type": "code",
      "source": [
        "import matplotlib.pyplot as plt\n",
        "\n",
        "# Assuming 'df' is the PySpark DataFrame you have loaded\n",
        "\n",
        "# Convert the PySpark DataFrame to a Pandas DataFrame\n",
        "pandas_df = df.select('Age10').toPandas()\n",
        "\n",
        "# Plot the histogram using Matplotlib\n",
        "plt.figure(figsize=(8, 6))\n",
        "plt.hist(pandas_df['Age10'], bins=20, edgecolor='black')\n",
        "plt.xlabel('Age10')\n",
        "plt.ylabel('Frequency')\n",
        "plt.title('Histogram of Age10')\n",
        "plt.show()"
      ],
      "metadata": {
        "colab": {
          "base_uri": "https://localhost:8080/",
          "height": 564
        },
        "id": "IlUlL7UfHNZH",
        "outputId": "6080686c-6168-4bb5-ddd4-1254befb5569"
      },
      "execution_count": 17,
      "outputs": [
        {
          "output_type": "display_data",
          "data": {
            "text/plain": [
              "<Figure size 800x600 with 1 Axes>"
            ],
            "image/png": "[encoded data removed]"
          },
          "metadata": {}
        }
      ]
    },
    {
      "cell_type": "markdown",
      "source": [
        "**9. Provide Summary Statistics of all columns (count, mean, stddev,min, max)**"
      ],
      "metadata": {
        "id": "FeL25h50HcTA"
      }
    },
    {
      "cell_type": "code",
      "source": [
        "df.describe().show()"
      ],
      "metadata": {
        "colab": {
          "base_uri": "https://localhost:8080/"
        },
        "id": "E1x2KxazHSfI",
        "outputId": "997eb970-78cd-4f3e-9c7e-e537781b0330"
      },
      "execution_count": 18,
      "outputs": [
        {
          "output_type": "stream",
          "name": "stdout",
          "text": [
            "+-------+------------------+------------------+------------------+------------------+------------------+------------------+------------------+------------------+-----------------+------------------+------------------+------------------+------------------+------------------+\n",
            "|summary|              crim|                zn|             indus|              chas|               nox|                rm|               age|               dis|              rad|               tax|           ptratio|             lstat|              medv|             Age10|\n",
            "+-------+------------------+------------------+------------------+------------------+------------------+------------------+------------------+------------------+-----------------+------------------+------------------+------------------+------------------+------------------+\n",
            "|  count|               506|               506|               506|               506|               506|               506|               506|               506|              506|               506|               506|               506|               506|               506|\n",
            "|   mean|3.6134189723320147|11.363636363636363|11.136778656126504|0.0691699604743083|0.5547628458498024| 6.285217391304348| 68.57490118577078| 3.795434782608693|9.549407114624506| 408.2371541501976|18.455533596837967|12.653063241106723|22.532806324110698| 75.43239130434783|\n",
            "| stddev| 8.601602243696705| 23.32245299451514| 6.860352940897589|0.2539940413404101|0.1155068172648583|0.7028533445424924|28.148861406903595|2.1057760049129106|8.707259384239366|168.53711605495903|2.1649455237144455| 7.141061511348571| 9.197104087379815| 30.96374754759397|\n",
            "|    min|              0.01|               0.0|              0.46|                 0|              0.39|              3.56|               2.9|              1.13|                1|               187|              12.6|              1.73|               5.0|              3.19|\n",
            "|    max|             88.98|             100.0|             27.74|                 1|              0.87|              8.78|             100.0|             12.13|               24|               711|              22.0|             37.97|              50.0|110.00000000000001|\n",
            "+-------+------------------+------------------+------------------+------------------+------------------+------------------+------------------+------------------+-----------------+------------------+------------------+------------------+------------------+------------------+\n",
            "\n"
          ]
        }
      ]
    },
    {
      "cell_type": "markdown",
      "source": [
        "**10. Convert  Spark Dataframe to Pandas Dataframe**"
      ],
      "metadata": {
        "id": "37bxMjX7Hrzn"
      }
    },
    {
      "cell_type": "code",
      "source": [
        "pandas_df = df.toPandas()\n",
        "pandas_df"
      ],
      "metadata": {
        "colab": {
          "base_uri": "https://localhost:8080/",
          "height": 424
        },
        "id": "OJE_i2h7H5Tg",
        "outputId": "0f6ead37-5ddd-405b-e686-b3d8853f976e"
      },
      "execution_count": 21,
      "outputs": [
        {
          "output_type": "execute_result",
          "data": {
            "text/plain": [
              "     crim    zn  indus  chas   nox    rm   age   dis  rad  tax  ptratio  \\\n",
              "0    0.01  18.0   2.31     0  0.54  6.58  65.2  4.09    1  296     15.3   \n",
              "1    0.03   0.0   7.07     0  0.47  6.42  78.9  4.97    2  242     17.8   \n",
              "2    0.03   0.0   7.07     0  0.47  7.19  61.1  4.97    2  242     17.8   \n",
              "3    0.03   0.0   2.18     0  0.46  7.00  45.8  6.06    3  222     18.7   \n",
              "4    0.07   0.0   2.18     0  0.46  7.15  54.2  6.06    3  222     18.7   \n",
              "..    ...   ...    ...   ...   ...   ...   ...   ...  ...  ...      ...   \n",
              "501  0.06   0.0  11.93     0  0.57  6.59  69.1  2.48    1  273     21.0   \n",
              "502  0.05   0.0  11.93     0  0.57  6.12  76.7  2.29    1  273     21.0   \n",
              "503  0.06   0.0  11.93     0  0.57  6.98  91.0  2.17    1  273     21.0   \n",
              "504  0.11   0.0  11.93     0  0.57  6.79  89.3  2.39    1  273     21.0   \n",
              "505  0.05   0.0  11.93     0  0.57  6.03  80.8  2.51    1  273     21.0   \n",
              "\n",
              "     lstat  medv   Age10  \n",
              "0     4.98  24.0   71.72  \n",
              "1     9.14  21.6   86.79  \n",
              "2     4.03  34.7   67.21  \n",
              "3     2.94  33.4   50.38  \n",
              "4     5.33  36.2   59.62  \n",
              "..     ...   ...     ...  \n",
              "501   9.67  22.4   76.01  \n",
              "502   9.08  20.6   84.37  \n",
              "503   5.64  23.9  100.10  \n",
              "504   6.48  22.0   98.23  \n",
              "505   7.88  11.9   88.88  \n",
              "\n",
              "[506 rows x 14 columns]"
            ],
            "text/html": [
              "\n",
              "  <div id=\"df-bc777cc0-5c97-4544-b8fe-6ec5cf1cb2d9\" class=\"colab-df-container\">\n",
              "    <div>\n",
              "<style scoped>\n",
              "    .dataframe tbody tr th:only-of-type {\n",
              "        vertical-align: middle;\n",
              "    }\n",
              "\n",
              "    .dataframe tbody tr th {\n",
              "        vertical-align: top;\n",
              "    }\n",
              "\n",
              "    .dataframe thead th {\n",
              "        text-align: right;\n",
              "    }\n",
              "</style>\n",
              "<table border=\"1\" class=\"dataframe\">\n",
              "  <thead>\n",
              "    <tr style=\"text-align: right;\">\n",
              "      <th></th>\n",
              "      <th>crim</th>\n",
              "      <th>zn</th>\n",
              "      <th>indus</th>\n",
              "      <th>chas</th>\n",
              "      <th>nox</th>\n",
              "      <th>rm</th>\n",
              "      <th>age</th>\n",
              "      <th>dis</th>\n",
              "      <th>rad</th>\n",
              "      <th>tax</th>\n",
              "      <th>ptratio</th>\n",
              "      <th>lstat</th>\n",
              "      <th>medv</th>\n",
              "      <th>Age10</th>\n",
              "    </tr>\n",
              "  </thead>\n",
              "  <tbody>\n",
              "    <tr>\n",
              "      <th>0</th>\n",
              "      <td>0.01</td>\n",
              "      <td>18.0</td>\n",
              "      <td>2.31</td>\n",
              "      <td>0</td>\n",
              "      <td>0.54</td>\n",
              "      <td>6.58</td>\n",
              "      <td>65.2</td>\n",
              "      <td>4.09</td>\n",
              "      <td>1</td>\n",
              "      <td>296</td>\n",
              "      <td>15.3</td>\n",
              "      <td>4.98</td>\n",
              "      <td>24.0</td>\n",
              "      <td>71.72</td>\n",
              "    </tr>\n",
              "    <tr>\n",
              "      <th>1</th>\n",
              "      <td>0.03</td>\n",
              "      <td>0.0</td>\n",
              "      <td>7.07</td>\n",
              "      <td>0</td>\n",
              "      <td>0.47</td>\n",
              "      <td>6.42</td>\n",
              "      <td>78.9</td>\n",
              "      <td>4.97</td>\n",
              "      <td>2</td>\n",
              "      <td>242</td>\n",
              "      <td>17.8</td>\n",
              "      <td>9.14</td>\n",
              "      <td>21.6</td>\n",
              "      <td>86.79</td>\n",
              "    </tr>\n",
              "    <tr>\n",
              "      <th>2</th>\n",
              "      <td>0.03</td>\n",
              "      <td>0.0</td>\n",
              "      <td>7.07</td>\n",
              "      <td>0</td>\n",
              "      <td>0.47</td>\n",
              "      <td>7.19</td>\n",
              "      <td>61.1</td>\n",
              "      <td>4.97</td>\n",
              "      <td>2</td>\n",
              "      <td>242</td>\n",
              "      <td>17.8</td>\n",
              "      <td>4.03</td>\n",
              "      <td>34.7</td>\n",
              "      <td>67.21</td>\n",
              "    </tr>\n",
              "    <tr>\n",
              "      <th>3</th>\n",
              "      <td>0.03</td>\n",
              "      <td>0.0</td>\n",
              "      <td>2.18</td>\n",
              "      <td>0</td>\n",
              "      <td>0.46</td>\n",
              "      <td>7.00</td>\n",
              "      <td>45.8</td>\n",
              "      <td>6.06</td>\n",
              "      <td>3</td>\n",
              "      <td>222</td>\n",
              "      <td>18.7</td>\n",
              "      <td>2.94</td>\n",
              "      <td>33.4</td>\n",
              "      <td>50.38</td>\n",
              "    </tr>\n",
              "    <tr>\n",
              "      <th>4</th>\n",
              "      <td>0.07</td>\n",
              "      <td>0.0</td>\n",
              "      <td>2.18</td>\n",
              "      <td>0</td>\n",
              "      <td>0.46</td>\n",
              "      <td>7.15</td>\n",
              "      <td>54.2</td>\n",
              "      <td>6.06</td>\n",
              "      <td>3</td>\n",
              "      <td>222</td>\n",
              "      <td>18.7</td>\n",
              "      <td>5.33</td>\n",
              "      <td>36.2</td>\n",
              "      <td>59.62</td>\n",
              "    </tr>\n",
              "    <tr>\n",
              "      <th>...</th>\n",
              "      <td>...</td>\n",
              "      <td>...</td>\n",
              "      <td>...</td>\n",
              "      <td>...</td>\n",
              "      <td>...</td>\n",
              "      <td>...</td>\n",
              "      <td>...</td>\n",
              "      <td>...</td>\n",
              "      <td>...</td>\n",
              "      <td>...</td>\n",
              "      <td>...</td>\n",
              "      <td>...</td>\n",
              "      <td>...</td>\n",
              "      <td>...</td>\n",
              "    </tr>\n",
              "    <tr>\n",
              "      <th>501</th>\n",
              "      <td>0.06</td>\n",
              "      <td>0.0</td>\n",
              "      <td>11.93</td>\n",
              "      <td>0</td>\n",
              "      <td>0.57</td>\n",
              "      <td>6.59</td>\n",
              "      <td>69.1</td>\n",
              "      <td>2.48</td>\n",
              "      <td>1</td>\n",
              "      <td>273</td>\n",
              "      <td>21.0</td>\n",
              "      <td>9.67</td>\n",
              "      <td>22.4</td>\n",
              "      <td>76.01</td>\n",
              "    </tr>\n",
              "    <tr>\n",
              "      <th>502</th>\n",
              "      <td>0.05</td>\n",
              "      <td>0.0</td>\n",
              "      <td>11.93</td>\n",
              "      <td>0</td>\n",
              "      <td>0.57</td>\n",
              "      <td>6.12</td>\n",
              "      <td>76.7</td>\n",
              "      <td>2.29</td>\n",
              "      <td>1</td>\n",
              "      <td>273</td>\n",
              "      <td>21.0</td>\n",
              "      <td>9.08</td>\n",
              "      <td>20.6</td>\n",
              "      <td>84.37</td>\n",
              "    </tr>\n",
              "    <tr>\n",
              "      <th>503</th>\n",
              "      <td>0.06</td>\n",
              "      <td>0.0</td>\n",
              "      <td>11.93</td>\n",
              "      <td>0</td>\n",
              "      <td>0.57</td>\n",
              "      <td>6.98</td>\n",
              "      <td>91.0</td>\n",
              "      <td>2.17</td>\n",
              "      <td>1</td>\n",
              "      <td>273</td>\n",
              "      <td>21.0</td>\n",
              "      <td>5.64</td>\n",
              "      <td>23.9</td>\n",
              "      <td>100.10</td>\n",
              "    </tr>\n",
              "    <tr>\n",
              "      <th>504</th>\n",
              "      <td>0.11</td>\n",
              "      <td>0.0</td>\n",
              "      <td>11.93</td>\n",
              "      <td>0</td>\n",
              "      <td>0.57</td>\n",
              "      <td>6.79</td>\n",
              "      <td>89.3</td>\n",
              "      <td>2.39</td>\n",
              "      <td>1</td>\n",
              "      <td>273</td>\n",
              "      <td>21.0</td>\n",
              "      <td>6.48</td>\n",
              "      <td>22.0</td>\n",
              "      <td>98.23</td>\n",
              "    </tr>\n",
              "    <tr>\n",
              "      <th>505</th>\n",
              "      <td>0.05</td>\n",
              "      <td>0.0</td>\n",
              "      <td>11.93</td>\n",
              "      <td>0</td>\n",
              "      <td>0.57</td>\n",
              "      <td>6.03</td>\n",
              "      <td>80.8</td>\n",
              "      <td>2.51</td>\n",
              "      <td>1</td>\n",
              "      <td>273</td>\n",
              "      <td>21.0</td>\n",
              "      <td>7.88</td>\n",
              "      <td>11.9</td>\n",
              "      <td>88.88</td>\n",
              "    </tr>\n",
              "  </tbody>\n",
              "</table>\n",
              "<p>506 rows × 14 columns</p>\n",
              "</div>\n",
              "    <div class=\"colab-df-buttons\">\n",
              "\n",
              "  <div class=\"colab-df-container\">\n",
              "    <button class=\"colab-df-convert\" onclick=\"convertToInteractive('df-bc777cc0-5c97-4544-b8fe-6ec5cf1cb2d9')\"\n",
              "            title=\"Convert this dataframe to an interactive table.\"\n",
              "            style=\"display:none;\">\n",
              "\n",
              "  <svg xmlns=\"http://www.w3.org/2000/svg\" height=\"24px\" viewBox=\"0 -960 960 960\">\n",
              "    <path d=\"M120-120v-720h720v720H120Zm60-500h600v-160H180v160Zm220 220h160v-160H400v160Zm0 220h160v-160H400v160ZM180-400h160v-160H180v160Zm440 0h160v-160H620v160ZM180-180h160v-160H180v160Zm440 0h160v-160H620v160Z\"/>\n",
              "  </svg>\n",
              "    </button>\n",
              "\n",
              "  <style>\n",
              "    .colab-df-container {\n",
              "      display:flex;\n",
              "      gap: 12px;\n",
              "    }\n",
              "\n",
              "    .colab-df-convert {\n",
              "      background-color: #E8F0FE;\n",
              "      border: none;\n",
              "      border-radius: 50%;\n",
              "      cursor: pointer;\n",
              "      display: none;\n",
              "      fill: #1967D2;\n",
              "      height: 32px;\n",
              "      padding: 0 0 0 0;\n",
              "      width: 32px;\n",
              "    }\n",
              "\n",
              "    .colab-df-convert:hover {\n",
              "      background-color: #E2EBFA;\n",
              "      box-shadow: 0px 1px 2px rgba(60, 64, 67, 0.3), 0px 1px 3px 1px rgba(60, 64, 67, 0.15);\n",
              "      fill: #174EA6;\n",
              "    }\n",
              "\n",
              "    .colab-df-buttons div {\n",
              "      margin-bottom: 4px;\n",
              "    }\n",
              "\n",
              "    [theme=dark] .colab-df-convert {\n",
              "      background-color: #3B4455;\n",
              "      fill: #D2E3FC;\n",
              "    }\n",
              "\n",
              "    [theme=dark] .colab-df-convert:hover {\n",
              "      background-color: #434B5C;\n",
              "      box-shadow: 0px 1px 3px 1px rgba(0, 0, 0, 0.15);\n",
              "      filter: drop-shadow(0px 1px 2px rgba(0, 0, 0, 0.3));\n",
              "      fill: #FFFFFF;\n",
              "    }\n",
              "  </style>\n",
              "\n",
              "    <script>\n",
              "      const buttonEl =\n",
              "        document.querySelector('#df-bc777cc0-5c97-4544-b8fe-6ec5cf1cb2d9 button.colab-df-convert');\n",
              "      buttonEl.style.display =\n",
              "        google.colab.kernel.accessAllowed ? 'block' : 'none';\n",
              "\n",
              "      async function convertToInteractive(key) {\n",
              "        const element = document.querySelector('#df-bc777cc0-5c97-4544-b8fe-6ec5cf1cb2d9');\n",
              "        const dataTable =\n",
              "          await google.colab.kernel.invokeFunction('convertToInteractive',\n",
              "                                                    [key], {});\n",
              "        if (!dataTable) return;\n",
              "\n",
              "        const docLinkHtml = 'Like what you see? Visit the ' +\n",
              "          '<a target=\"_blank\" href=https://colab.research.google.com/notebooks/data_table.ipynb>data table notebook</a>'\n",
              "          + ' to learn more about interactive tables.';\n",
              "        element.innerHTML = '';\n",
              "        dataTable['output_type'] = 'display_data';\n",
              "        await google.colab.output.renderOutput(dataTable, element);\n",
              "        const docLink = document.createElement('div');\n",
              "        docLink.innerHTML = docLinkHtml;\n",
              "        element.appendChild(docLink);\n",
              "      }\n",
              "    </script>\n",
              "  </div>\n",
              "\n",
              "\n",
              "<div id=\"df-4576b093-fcfe-4321-9c30-da4c0c3140cd\">\n",
              "  <button class=\"colab-df-quickchart\" onclick=\"quickchart('df-4576b093-fcfe-4321-9c30-da4c0c3140cd')\"\n",
              "            title=\"Suggest charts.\"\n",
              "            style=\"display:none;\">\n",
              "\n",
              "<svg xmlns=\"http://www.w3.org/2000/svg\" height=\"24px\"viewBox=\"0 0 24 24\"\n",
              "     width=\"24px\">\n",
              "    <g>\n",
              "        <path d=\"M19 3H5c-1.1 0-2 .9-2 2v14c0 1.1.9 2 2 2h14c1.1 0 2-.9 2-2V5c0-1.1-.9-2-2-2zM9 17H7v-7h2v7zm4 0h-2V7h2v10zm4 0h-2v-4h2v4z\"/>\n",
              "    </g>\n",
              "</svg>\n",
              "  </button>\n",
              "\n",
              "<style>\n",
              "  .colab-df-quickchart {\n",
              "      --bg-color: #E8F0FE;\n",
              "      --fill-color: #1967D2;\n",
              "      --hover-bg-color: #E2EBFA;\n",
              "      --hover-fill-color: #174EA6;\n",
              "      --disabled-fill-color: #AAA;\n",
              "      --disabled-bg-color: #DDD;\n",
              "  }\n",
              "\n",
              "  [theme=dark] .colab-df-quickchart {\n",
              "      --bg-color: #3B4455;\n",
              "      --fill-color: #D2E3FC;\n",
              "      --hover-bg-color: #434B5C;\n",
              "      --hover-fill-color: #FFFFFF;\n",
              "      --disabled-bg-color: #3B4455;\n",
              "      --disabled-fill-color: #666;\n",
              "  }\n",
              "\n",
              "  .colab-df-quickchart {\n",
              "    background-color: var(--bg-color);\n",
              "    border: none;\n",
              "    border-radius: 50%;\n",
              "    cursor: pointer;\n",
              "    display: none;\n",
              "    fill: var(--fill-color);\n",
              "    height: 32px;\n",
              "    padding: 0;\n",
              "    width: 32px;\n",
              "  }\n",
              "\n",
              "  .colab-df-quickchart:hover {\n",
              "    background-color: var(--hover-bg-color);\n",
              "    box-shadow: 0 1px 2px rgba(60, 64, 67, 0.3), 0 1px 3px 1px rgba(60, 64, 67, 0.15);\n",
              "    fill: var(--button-hover-fill-color);\n",
              "  }\n",
              "\n",
              "  .colab-df-quickchart-complete:disabled,\n",
              "  .colab-df-quickchart-complete:disabled:hover {\n",
              "    background-color: var(--disabled-bg-color);\n",
              "    fill: var(--disabled-fill-color);\n",
              "    box-shadow: none;\n",
              "  }\n",
              "\n",
              "  .colab-df-spinner {\n",
              "    border: 2px solid var(--fill-color);\n",
              "    border-color: transparent;\n",
              "    border-bottom-color: var(--fill-color);\n",
              "    animation:\n",
              "      spin 1s steps(1) infinite;\n",
              "  }\n",
              "\n",
              "  @keyframes spin {\n",
              "    0% {\n",
              "      border-color: transparent;\n",
              "      border-bottom-color: var(--fill-color);\n",
              "      border-left-color: var(--fill-color);\n",
              "    }\n",
              "    20% {\n",
              "      border-color: transparent;\n",
              "      border-left-color: var(--fill-color);\n",
              "      border-top-color: var(--fill-color);\n",
              "    }\n",
              "    30% {\n",
              "      border-color: transparent;\n",
              "      border-left-color: var(--fill-color);\n",
              "      border-top-color: var(--fill-color);\n",
              "      border-right-color: var(--fill-color);\n",
              "    }\n",
              "    40% {\n",
              "      border-color: transparent;\n",
              "      border-right-color: var(--fill-color);\n",
              "      border-top-color: var(--fill-color);\n",
              "    }\n",
              "    60% {\n",
              "      border-color: transparent;\n",
              "      border-right-color: var(--fill-color);\n",
              "    }\n",
              "    80% {\n",
              "      border-color: transparent;\n",
              "      border-right-color: var(--fill-color);\n",
              "      border-bottom-color: var(--fill-color);\n",
              "    }\n",
              "    90% {\n",
              "      border-color: transparent;\n",
              "      border-bottom-color: var(--fill-color);\n",
              "    }\n",
              "  }\n",
              "</style>\n",
              "\n",
              "  <script>\n",
              "    async function quickchart(key) {\n",
              "      const quickchartButtonEl =\n",
              "        document.querySelector('#' + key + ' button');\n",
              "      quickchartButtonEl.disabled = true;  // To prevent multiple clicks.\n",
              "      quickchartButtonEl.classList.add('colab-df-spinner');\n",
              "      try {\n",
              "        const charts = await google.colab.kernel.invokeFunction(\n",
              "            'suggestCharts', [key], {});\n",
              "      } catch (error) {\n",
              "        console.error('Error during call to suggestCharts:', error);\n",
              "      }\n",
              "      quickchartButtonEl.classList.remove('colab-df-spinner');\n",
              "      quickchartButtonEl.classList.add('colab-df-quickchart-complete');\n",
              "    }\n",
              "    (() => {\n",
              "      let quickchartButtonEl =\n",
              "        document.querySelector('#df-4576b093-fcfe-4321-9c30-da4c0c3140cd button');\n",
              "      quickchartButtonEl.style.display =\n",
              "        google.colab.kernel.accessAllowed ? 'block' : 'none';\n",
              "    })();\n",
              "  </script>\n",
              "</div>\n",
              "    </div>\n",
              "  </div>\n"
            ]
          },
          "metadata": {},
          "execution_count": 21
        }
      ]
    },
    {
      "cell_type": "markdown",
      "source": [
        "**11. Show the last 5 rows of Pandas DataFrame**"
      ],
      "metadata": {
        "id": "J8CEdQ6sH9Ng"
      }
    },
    {
      "cell_type": "code",
      "source": [
        "print(pandas_df.tail(5))"
      ],
      "metadata": {
        "colab": {
          "base_uri": "https://localhost:8080/"
        },
        "id": "jC0HFzqCIBI5",
        "outputId": "373e17e6-03d7-42d6-d08a-1c19c454bfd1"
      },
      "execution_count": 20,
      "outputs": [
        {
          "output_type": "stream",
          "name": "stdout",
          "text": [
            "     crim   zn  indus  chas   nox    rm   age   dis  rad  tax  ptratio  lstat  \\\n",
            "501  0.06  0.0  11.93     0  0.57  6.59  69.1  2.48    1  273     21.0   9.67   \n",
            "502  0.05  0.0  11.93     0  0.57  6.12  76.7  2.29    1  273     21.0   9.08   \n",
            "503  0.06  0.0  11.93     0  0.57  6.98  91.0  2.17    1  273     21.0   5.64   \n",
            "504  0.11  0.0  11.93     0  0.57  6.79  89.3  2.39    1  273     21.0   6.48   \n",
            "505  0.05  0.0  11.93     0  0.57  6.03  80.8  2.51    1  273     21.0   7.88   \n",
            "\n",
            "     medv   Age10  \n",
            "501  22.4   76.01  \n",
            "502  20.6   84.37  \n",
            "503  23.9  100.10  \n",
            "504  22.0   98.23  \n",
            "505  11.9   88.88  \n"
          ]
        }
      ]
    },
    {
      "cell_type": "code",
      "source": [
        "spark.stop()"
      ],
      "metadata": {
        "id": "h26W6J8IIZFI"
      },
      "execution_count": 22,
      "outputs": []
    }
  ]
}